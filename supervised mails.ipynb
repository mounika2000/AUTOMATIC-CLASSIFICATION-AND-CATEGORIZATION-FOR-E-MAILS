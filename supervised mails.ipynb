{
 "cells": [
  {
   "cell_type": "code",
   "execution_count": 1,
   "metadata": {},
   "outputs": [],
   "source": [
    "from sklearn import model_selection, preprocessing, linear_model, naive_bayes, metrics, svm\n",
    "from sklearn.feature_extraction.text import TfidfVectorizer, CountVectorizer\n",
    "from sklearn import decomposition, ensemble\n",
    "\n",
    "import pandas, numpy, string\n"
   ]
  },
  {
   "cell_type": "code",
   "execution_count": null,
   "metadata": {},
   "outputs": [],
   "source": []
  },
  {
   "cell_type": "code",
   "execution_count": 2,
   "metadata": {
    "scrolled": true
   },
   "outputs": [],
   "source": [
    "# load the dataset\n",
    "data = open('E:\\irFinal\\supermails11.txt').read()\n",
    "dataz=data.split('\\t')\n",
    "labels, texts = [], []\n",
    "for line in enumerate(dataz):\n",
    "    linez=line[1].split('\\n')\n",
    "    #print(linez)\n",
    "    if linez[0]=='':\n",
    "        s=''\n",
    "        for i in range(1,len(linez)):\n",
    "            s+=linez[i]\n",
    "        if s!='':\n",
    "            texts.append(s)\n",
    "    else:\n",
    "        labels.append(linez[0])\n",
    "        s=''\n",
    "        for i in range(1,len(linez)):\n",
    "            s+=linez[i]\n",
    "        if s!='':\n",
    "            texts.append(s)\n",
    "\n"
   ]
  },
  {
   "cell_type": "code",
   "execution_count": 3,
   "metadata": {},
   "outputs": [],
   "source": [
    "# create a dataframe using texts and lables\n",
    "trainDF = pandas.DataFrame()\n",
    "trainDF['text'] = texts\n",
    "trainDF['label'] = labels"
   ]
  },
  {
   "cell_type": "code",
   "execution_count": 4,
   "metadata": {},
   "outputs": [
    {
     "data": {
      "text/plain": [
       "0     \"TechGig Code Gladiators 2020 crosses 1 lakh r...\n",
       "1     \"Has being given a free Pro membership helped?...\n",
       "2     \"TechGig Code Gladiators 2020 crosses 1 lakh r...\n",
       "3     \"Are you a fresher? Here's why you should atte...\n",
       "4     \"The May Long Challenge is just around the cor...\n",
       "5     \"Live Problem DiscussionWe’ve been organizing ...\n",
       "6     Codecheffers are making the most of this time ...\n",
       "7     \"Note that Cook-Off is on a Monday this month ...\n",
       "8     \"You can book your spot here. To Register, jus...\n",
       "9     \"Hey Geek,   Are you ready to face the big sho...\n",
       "10    \"Women across different career fields are leav...\n",
       "11    \"You're receiving this monthly email because y...\n",
       "12    Your Google Account was just signed in to from...\n",
       "13    \"Adding Google Chrome, Google Chrome OS and Go...\n",
       "14    \"No changes to our Privacy Policy: We’re not m...\n",
       "15    Google can use this phone number to make sure ...\n",
       "16    \"No changes to our Privacy Policy: We’re not m...\n",
       "17    \"If you’re the guardian of a child under the a...\n",
       "18    \"You'll get Google sign-in prompts on all your...\n",
       "19    \"Now you can try it for yourself with free upg...\n",
       "20    \"Offer ends midnight GMT 30 June 2020. Don't m...\n",
       "21    \"If you have extra time or you'd like to take ...\n",
       "22    \"Plus, discover how to adapt your classes for ...\n",
       "23    \"This is it. In a matter of hours, the Unlimit...\n",
       "24    \"We hope that you're safe and well, and taking...\n",
       "25    \"What could an investment in a year of limitle...\n",
       "26    \"Alison is all set to launch a series of high-...\n",
       "27    \"Adobe Create    Learn new ways to create with...\n",
       "28    \"Think of the opportunities you could unlock w...\n",
       "29    \"We’ve already given Pro memberships to almost...\n",
       "30    \"A lot has happened on Facebook since you last...\n",
       "31    \"Instagram sends updates like this to help you...\n",
       "32    \" If you don't want to receive these emails fr...\n",
       "33    \"Let's get started with this new survey.Don't ...\n",
       "34    \"Ever wondered about who the worst ambassador ...\n",
       "35    \"He's a cover singing sensation. He's graced a...\n",
       "36    \"Gautam Jha invited you to like The Entertainm...\n",
       "37    \"She's a star in the making. Starring in Briti...\n",
       "38    \"Views flood his Instagram and YouTube covers....\n",
       "39    \"The Step-Up initiative is conceptualized with...\n",
       "40    \"Happy Thursday.This is a strange time. I'm tr...\n",
       "41    \"The architect Christopher Alexander on how to...\n",
       "42    \"Sharon Salzberg on faith and keeping an open ...\n",
       "43    \"1 QUESTION FOR YOUCan you sit still, do nothi...\n",
       "44    \"Happy Thursday! Allow me to spice up your inb...\n",
       "45    \"2 QUOTES FROM OTHERSI.The author and generall...\n",
       "46    \"Bonus quote:Bryson's description reminds me o...\n",
       "47    \"The poet and Pulitzer Prize winner Mary Olive...\n",
       "48    \"1 QUESTION FOR YOUWhat would 10-year-old me s...\n",
       "49    \"2 QUOTES FROM OTHERSI.E.O. Wilson, a sociobio...\n",
       "50    \"Another year complete. Here's a quick recap o...\n",
       "Name: text, dtype: object"
      ]
     },
     "execution_count": 4,
     "metadata": {},
     "output_type": "execute_result"
    }
   ],
   "source": [
    "trainDF.text"
   ]
  },
  {
   "cell_type": "code",
   "execution_count": 6,
   "metadata": {},
   "outputs": [
    {
     "data": {
      "text/html": [
       "<div>\n",
       "<style scoped>\n",
       "    .dataframe tbody tr th:only-of-type {\n",
       "        vertical-align: middle;\n",
       "    }\n",
       "\n",
       "    .dataframe tbody tr th {\n",
       "        vertical-align: top;\n",
       "    }\n",
       "\n",
       "    .dataframe thead th {\n",
       "        text-align: right;\n",
       "    }\n",
       "</style>\n",
       "<table border=\"1\" class=\"dataframe\">\n",
       "  <thead>\n",
       "    <tr style=\"text-align: right;\">\n",
       "      <th></th>\n",
       "      <th>text</th>\n",
       "      <th>label</th>\n",
       "    </tr>\n",
       "  </thead>\n",
       "  <tbody>\n",
       "    <tr>\n",
       "      <th>0</th>\n",
       "      <td>\"TechGig Code Gladiators 2020 crosses 1 lakh r...</td>\n",
       "      <td>competitions</td>\n",
       "    </tr>\n",
       "    <tr>\n",
       "      <th>1</th>\n",
       "      <td>\"Has being given a free Pro membership helped?...</td>\n",
       "      <td>competitions</td>\n",
       "    </tr>\n",
       "    <tr>\n",
       "      <th>2</th>\n",
       "      <td>\"TechGig Code Gladiators 2020 crosses 1 lakh r...</td>\n",
       "      <td>competitions</td>\n",
       "    </tr>\n",
       "    <tr>\n",
       "      <th>3</th>\n",
       "      <td>\"Are you a fresher? Here's why you should atte...</td>\n",
       "      <td>competitions</td>\n",
       "    </tr>\n",
       "    <tr>\n",
       "      <th>4</th>\n",
       "      <td>\"The May Long Challenge is just around the cor...</td>\n",
       "      <td>competitions</td>\n",
       "    </tr>\n",
       "    <tr>\n",
       "      <th>5</th>\n",
       "      <td>\"Live Problem DiscussionWe’ve been organizing ...</td>\n",
       "      <td>competitions</td>\n",
       "    </tr>\n",
       "    <tr>\n",
       "      <th>6</th>\n",
       "      <td>Codecheffers are making the most of this time ...</td>\n",
       "      <td>competitions</td>\n",
       "    </tr>\n",
       "    <tr>\n",
       "      <th>7</th>\n",
       "      <td>\"Note that Cook-Off is on a Monday this month ...</td>\n",
       "      <td>competitions</td>\n",
       "    </tr>\n",
       "    <tr>\n",
       "      <th>8</th>\n",
       "      <td>\"You can book your spot here. To Register, jus...</td>\n",
       "      <td>competitions</td>\n",
       "    </tr>\n",
       "    <tr>\n",
       "      <th>9</th>\n",
       "      <td>\"Hey Geek,   Are you ready to face the big sho...</td>\n",
       "      <td>competitions</td>\n",
       "    </tr>\n",
       "    <tr>\n",
       "      <th>10</th>\n",
       "      <td>\"Women across different career fields are leav...</td>\n",
       "      <td>competitions</td>\n",
       "    </tr>\n",
       "    <tr>\n",
       "      <th>11</th>\n",
       "      <td>\"You're receiving this monthly email because y...</td>\n",
       "      <td>security</td>\n",
       "    </tr>\n",
       "    <tr>\n",
       "      <th>12</th>\n",
       "      <td>Your Google Account was just signed in to from...</td>\n",
       "      <td>security</td>\n",
       "    </tr>\n",
       "    <tr>\n",
       "      <th>13</th>\n",
       "      <td>\"Adding Google Chrome, Google Chrome OS and Go...</td>\n",
       "      <td>security</td>\n",
       "    </tr>\n",
       "    <tr>\n",
       "      <th>14</th>\n",
       "      <td>\"No changes to our Privacy Policy: We’re not m...</td>\n",
       "      <td>security</td>\n",
       "    </tr>\n",
       "    <tr>\n",
       "      <th>15</th>\n",
       "      <td>Google can use this phone number to make sure ...</td>\n",
       "      <td>security</td>\n",
       "    </tr>\n",
       "    <tr>\n",
       "      <th>16</th>\n",
       "      <td>\"No changes to our Privacy Policy: We’re not m...</td>\n",
       "      <td>security</td>\n",
       "    </tr>\n",
       "    <tr>\n",
       "      <th>17</th>\n",
       "      <td>\"If you’re the guardian of a child under the a...</td>\n",
       "      <td>security</td>\n",
       "    </tr>\n",
       "    <tr>\n",
       "      <th>18</th>\n",
       "      <td>\"You'll get Google sign-in prompts on all your...</td>\n",
       "      <td>security</td>\n",
       "    </tr>\n",
       "    <tr>\n",
       "      <th>19</th>\n",
       "      <td>\"Now you can try it for yourself with free upg...</td>\n",
       "      <td>promotions</td>\n",
       "    </tr>\n",
       "    <tr>\n",
       "      <th>20</th>\n",
       "      <td>\"Offer ends midnight GMT 30 June 2020. Don't m...</td>\n",
       "      <td>promotions</td>\n",
       "    </tr>\n",
       "    <tr>\n",
       "      <th>21</th>\n",
       "      <td>\"If you have extra time or you'd like to take ...</td>\n",
       "      <td>promotions</td>\n",
       "    </tr>\n",
       "    <tr>\n",
       "      <th>22</th>\n",
       "      <td>\"Plus, discover how to adapt your classes for ...</td>\n",
       "      <td>promotions</td>\n",
       "    </tr>\n",
       "    <tr>\n",
       "      <th>23</th>\n",
       "      <td>\"This is it. In a matter of hours, the Unlimit...</td>\n",
       "      <td>promotions</td>\n",
       "    </tr>\n",
       "    <tr>\n",
       "      <th>24</th>\n",
       "      <td>\"We hope that you're safe and well, and taking...</td>\n",
       "      <td>promotions</td>\n",
       "    </tr>\n",
       "    <tr>\n",
       "      <th>25</th>\n",
       "      <td>\"What could an investment in a year of limitle...</td>\n",
       "      <td>promotions</td>\n",
       "    </tr>\n",
       "    <tr>\n",
       "      <th>26</th>\n",
       "      <td>\"Alison is all set to launch a series of high-...</td>\n",
       "      <td>promotions</td>\n",
       "    </tr>\n",
       "    <tr>\n",
       "      <th>27</th>\n",
       "      <td>\"Adobe Create    Learn new ways to create with...</td>\n",
       "      <td>promotions</td>\n",
       "    </tr>\n",
       "    <tr>\n",
       "      <th>28</th>\n",
       "      <td>\"Think of the opportunities you could unlock w...</td>\n",
       "      <td>promotions</td>\n",
       "    </tr>\n",
       "    <tr>\n",
       "      <th>29</th>\n",
       "      <td>\"We’ve already given Pro memberships to almost...</td>\n",
       "      <td>promotions</td>\n",
       "    </tr>\n",
       "    <tr>\n",
       "      <th>30</th>\n",
       "      <td>\"A lot has happened on Facebook since you last...</td>\n",
       "      <td>social media</td>\n",
       "    </tr>\n",
       "    <tr>\n",
       "      <th>31</th>\n",
       "      <td>\"Instagram sends updates like this to help you...</td>\n",
       "      <td>social media</td>\n",
       "    </tr>\n",
       "    <tr>\n",
       "      <th>32</th>\n",
       "      <td>\" If you don't want to receive these emails fr...</td>\n",
       "      <td>social media</td>\n",
       "    </tr>\n",
       "    <tr>\n",
       "      <th>33</th>\n",
       "      <td>\"Let's get started with this new survey.Don't ...</td>\n",
       "      <td>social media</td>\n",
       "    </tr>\n",
       "    <tr>\n",
       "      <th>34</th>\n",
       "      <td>\"Ever wondered about who the worst ambassador ...</td>\n",
       "      <td>social media</td>\n",
       "    </tr>\n",
       "    <tr>\n",
       "      <th>35</th>\n",
       "      <td>\"He's a cover singing sensation. He's graced a...</td>\n",
       "      <td>social media</td>\n",
       "    </tr>\n",
       "    <tr>\n",
       "      <th>36</th>\n",
       "      <td>\"Gautam Jha invited you to like The Entertainm...</td>\n",
       "      <td>social media</td>\n",
       "    </tr>\n",
       "    <tr>\n",
       "      <th>37</th>\n",
       "      <td>\"She's a star in the making. Starring in Briti...</td>\n",
       "      <td>social media</td>\n",
       "    </tr>\n",
       "    <tr>\n",
       "      <th>38</th>\n",
       "      <td>\"Views flood his Instagram and YouTube covers....</td>\n",
       "      <td>social media</td>\n",
       "    </tr>\n",
       "    <tr>\n",
       "      <th>39</th>\n",
       "      <td>\"The Step-Up initiative is conceptualized with...</td>\n",
       "      <td>social media</td>\n",
       "    </tr>\n",
       "    <tr>\n",
       "      <th>40</th>\n",
       "      <td>\"Happy Thursday.This is a strange time. I'm tr...</td>\n",
       "      <td>motivation</td>\n",
       "    </tr>\n",
       "    <tr>\n",
       "      <th>41</th>\n",
       "      <td>\"The architect Christopher Alexander on how to...</td>\n",
       "      <td>motivation</td>\n",
       "    </tr>\n",
       "    <tr>\n",
       "      <th>42</th>\n",
       "      <td>\"Sharon Salzberg on faith and keeping an open ...</td>\n",
       "      <td>motivation</td>\n",
       "    </tr>\n",
       "    <tr>\n",
       "      <th>43</th>\n",
       "      <td>\"1 QUESTION FOR YOUCan you sit still, do nothi...</td>\n",
       "      <td>motivation</td>\n",
       "    </tr>\n",
       "    <tr>\n",
       "      <th>44</th>\n",
       "      <td>\"Happy Thursday! Allow me to spice up your inb...</td>\n",
       "      <td>motivation</td>\n",
       "    </tr>\n",
       "    <tr>\n",
       "      <th>45</th>\n",
       "      <td>\"2 QUOTES FROM OTHERSI.The author and generall...</td>\n",
       "      <td>motivation</td>\n",
       "    </tr>\n",
       "    <tr>\n",
       "      <th>46</th>\n",
       "      <td>\"Bonus quote:Bryson's description reminds me o...</td>\n",
       "      <td>motivation</td>\n",
       "    </tr>\n",
       "    <tr>\n",
       "      <th>47</th>\n",
       "      <td>\"The poet and Pulitzer Prize winner Mary Olive...</td>\n",
       "      <td>motivation</td>\n",
       "    </tr>\n",
       "    <tr>\n",
       "      <th>48</th>\n",
       "      <td>\"1 QUESTION FOR YOUWhat would 10-year-old me s...</td>\n",
       "      <td>motivation</td>\n",
       "    </tr>\n",
       "    <tr>\n",
       "      <th>49</th>\n",
       "      <td>\"2 QUOTES FROM OTHERSI.E.O. Wilson, a sociobio...</td>\n",
       "      <td>motivation</td>\n",
       "    </tr>\n",
       "    <tr>\n",
       "      <th>50</th>\n",
       "      <td>\"Another year complete. Here's a quick recap o...</td>\n",
       "      <td>motivation</td>\n",
       "    </tr>\n",
       "  </tbody>\n",
       "</table>\n",
       "</div>"
      ],
      "text/plain": [
       "                                                 text         label\n",
       "0   \"TechGig Code Gladiators 2020 crosses 1 lakh r...  competitions\n",
       "1   \"Has being given a free Pro membership helped?...  competitions\n",
       "2   \"TechGig Code Gladiators 2020 crosses 1 lakh r...  competitions\n",
       "3   \"Are you a fresher? Here's why you should atte...  competitions\n",
       "4   \"The May Long Challenge is just around the cor...  competitions\n",
       "5   \"Live Problem DiscussionWe’ve been organizing ...  competitions\n",
       "6   Codecheffers are making the most of this time ...  competitions\n",
       "7   \"Note that Cook-Off is on a Monday this month ...  competitions\n",
       "8   \"You can book your spot here. To Register, jus...  competitions\n",
       "9   \"Hey Geek,   Are you ready to face the big sho...  competitions\n",
       "10  \"Women across different career fields are leav...  competitions\n",
       "11  \"You're receiving this monthly email because y...      security\n",
       "12  Your Google Account was just signed in to from...      security\n",
       "13  \"Adding Google Chrome, Google Chrome OS and Go...      security\n",
       "14  \"No changes to our Privacy Policy: We’re not m...      security\n",
       "15  Google can use this phone number to make sure ...      security\n",
       "16  \"No changes to our Privacy Policy: We’re not m...      security\n",
       "17  \"If you’re the guardian of a child under the a...      security\n",
       "18  \"You'll get Google sign-in prompts on all your...      security\n",
       "19  \"Now you can try it for yourself with free upg...    promotions\n",
       "20  \"Offer ends midnight GMT 30 June 2020. Don't m...    promotions\n",
       "21  \"If you have extra time or you'd like to take ...    promotions\n",
       "22  \"Plus, discover how to adapt your classes for ...    promotions\n",
       "23  \"This is it. In a matter of hours, the Unlimit...    promotions\n",
       "24  \"We hope that you're safe and well, and taking...    promotions\n",
       "25  \"What could an investment in a year of limitle...    promotions\n",
       "26  \"Alison is all set to launch a series of high-...    promotions\n",
       "27  \"Adobe Create    Learn new ways to create with...    promotions\n",
       "28  \"Think of the opportunities you could unlock w...    promotions\n",
       "29  \"We’ve already given Pro memberships to almost...    promotions\n",
       "30  \"A lot has happened on Facebook since you last...  social media\n",
       "31  \"Instagram sends updates like this to help you...  social media\n",
       "32  \" If you don't want to receive these emails fr...  social media\n",
       "33  \"Let's get started with this new survey.Don't ...  social media\n",
       "34  \"Ever wondered about who the worst ambassador ...  social media\n",
       "35  \"He's a cover singing sensation. He's graced a...  social media\n",
       "36  \"Gautam Jha invited you to like The Entertainm...  social media\n",
       "37  \"She's a star in the making. Starring in Briti...  social media\n",
       "38  \"Views flood his Instagram and YouTube covers....  social media\n",
       "39  \"The Step-Up initiative is conceptualized with...  social media\n",
       "40  \"Happy Thursday.This is a strange time. I'm tr...    motivation\n",
       "41  \"The architect Christopher Alexander on how to...    motivation\n",
       "42  \"Sharon Salzberg on faith and keeping an open ...    motivation\n",
       "43  \"1 QUESTION FOR YOUCan you sit still, do nothi...    motivation\n",
       "44  \"Happy Thursday! Allow me to spice up your inb...    motivation\n",
       "45  \"2 QUOTES FROM OTHERSI.The author and generall...    motivation\n",
       "46  \"Bonus quote:Bryson's description reminds me o...    motivation\n",
       "47  \"The poet and Pulitzer Prize winner Mary Olive...    motivation\n",
       "48  \"1 QUESTION FOR YOUWhat would 10-year-old me s...    motivation\n",
       "49  \"2 QUOTES FROM OTHERSI.E.O. Wilson, a sociobio...    motivation\n",
       "50  \"Another year complete. Here's a quick recap o...    motivation"
      ]
     },
     "execution_count": 6,
     "metadata": {},
     "output_type": "execute_result"
    }
   ],
   "source": [
    "trainDF"
   ]
  },
  {
   "cell_type": "code",
   "execution_count": 7,
   "metadata": {},
   "outputs": [],
   "source": [
    "# split the dataset into training and validation datasets \n",
    "train_x, valid_x, train_y, valid_y = model_selection.train_test_split(trainDF['text'], trainDF['label'])\n",
    "\n",
    "# label encode the target variable \n",
    "encoder = preprocessing.LabelEncoder()\n",
    "train_y = encoder.fit_transform(train_y)\n",
    "valid_y = encoder.fit_transform(valid_y)"
   ]
  },
  {
   "cell_type": "code",
   "execution_count": 8,
   "metadata": {},
   "outputs": [
    {
     "data": {
      "text/plain": [
       "21    \"If you have extra time or you'd like to take ...\n",
       "27    \"Adobe Create    Learn new ways to create with...\n",
       "48    \"1 QUESTION FOR YOUWhat would 10-year-old me s...\n",
       "5     \"Live Problem DiscussionWe’ve been organizing ...\n",
       "50    \"Another year complete. Here's a quick recap o...\n",
       "43    \"1 QUESTION FOR YOUCan you sit still, do nothi...\n",
       "14    \"No changes to our Privacy Policy: We’re not m...\n",
       "28    \"Think of the opportunities you could unlock w...\n",
       "41    \"The architect Christopher Alexander on how to...\n",
       "10    \"Women across different career fields are leav...\n",
       "22    \"Plus, discover how to adapt your classes for ...\n",
       "1     \"Has being given a free Pro membership helped?...\n",
       "45    \"2 QUOTES FROM OTHERSI.The author and generall...\n",
       "13    \"Adding Google Chrome, Google Chrome OS and Go...\n",
       "44    \"Happy Thursday! Allow me to spice up your inb...\n",
       "4     \"The May Long Challenge is just around the cor...\n",
       "25    \"What could an investment in a year of limitle...\n",
       "18    \"You'll get Google sign-in prompts on all your...\n",
       "3     \"Are you a fresher? Here's why you should atte...\n",
       "17    \"If you’re the guardian of a child under the a...\n",
       "24    \"We hope that you're safe and well, and taking...\n",
       "31    \"Instagram sends updates like this to help you...\n",
       "34    \"Ever wondered about who the worst ambassador ...\n",
       "8     \"You can book your spot here. To Register, jus...\n",
       "15    Google can use this phone number to make sure ...\n",
       "6     Codecheffers are making the most of this time ...\n",
       "30    \"A lot has happened on Facebook since you last...\n",
       "47    \"The poet and Pulitzer Prize winner Mary Olive...\n",
       "29    \"We’ve already given Pro memberships to almost...\n",
       "40    \"Happy Thursday.This is a strange time. I'm tr...\n",
       "26    \"Alison is all set to launch a series of high-...\n",
       "9     \"Hey Geek,   Are you ready to face the big sho...\n",
       "11    \"You're receiving this monthly email because y...\n",
       "2     \"TechGig Code Gladiators 2020 crosses 1 lakh r...\n",
       "16    \"No changes to our Privacy Policy: We’re not m...\n",
       "49    \"2 QUOTES FROM OTHERSI.E.O. Wilson, a sociobio...\n",
       "23    \"This is it. In a matter of hours, the Unlimit...\n",
       "39    \"The Step-Up initiative is conceptualized with...\n",
       "Name: text, dtype: object"
      ]
     },
     "execution_count": 8,
     "metadata": {},
     "output_type": "execute_result"
    }
   ],
   "source": [
    "train_x"
   ]
  },
  {
   "cell_type": "code",
   "execution_count": 6,
   "metadata": {},
   "outputs": [],
   "source": [
    "#Feature Engineering"
   ]
  },
  {
   "cell_type": "code",
   "execution_count": 9,
   "metadata": {},
   "outputs": [],
   "source": [
    "# count vectors\n",
    "# create a count vectorizer object \n",
    "count_vect = CountVectorizer(analyzer='word', token_pattern=r'\\w{1,}')\n",
    "count_vect.fit(trainDF['text'])\n",
    "\n",
    "# transform the training and validation data using count vectorizer object\n",
    "xtrain_count =  count_vect.transform(train_x)\n",
    "xvalid_count =  count_vect.transform(valid_x)"
   ]
  },
  {
   "cell_type": "code",
   "execution_count": 10,
   "metadata": {},
   "outputs": [],
   "source": [
    "# word level tf-idf\n",
    "tfidf_vect = TfidfVectorizer(analyzer='word', token_pattern=r'\\w{1,}', max_features=5000)\n",
    "tfidf_vect.fit(trainDF['text'])\n",
    "xtrain_tfidf =  tfidf_vect.transform(train_x)\n",
    "xvalid_tfidf =  tfidf_vect.transform(valid_x)"
   ]
  },
  {
   "cell_type": "code",
   "execution_count": 11,
   "metadata": {},
   "outputs": [],
   "source": [
    "# ngram level tf-idf \n",
    "tfidf_vect_ngram = TfidfVectorizer(analyzer='word', token_pattern=r'\\w{1,}', ngram_range=(2,3), max_features=5000)\n",
    "tfidf_vect_ngram.fit(trainDF['text'])\n",
    "xtrain_tfidf_ngram =  tfidf_vect_ngram.transform(train_x)\n",
    "xvalid_tfidf_ngram =  tfidf_vect_ngram.transform(valid_x)"
   ]
  },
  {
   "cell_type": "code",
   "execution_count": 12,
   "metadata": {},
   "outputs": [],
   "source": [
    "def train_model(classifier, feature_vector_train, label, feature_vector_valid, is_neural_net=False):\n",
    "    # fit the training dataset on the classifier\n",
    "    classifier.fit(feature_vector_train, label)\n",
    "    \n",
    "    # predict the labels on validation dataset\n",
    "    predictions = classifier.predict(feature_vector_valid)\n",
    "    \n",
    "    if is_neural_net:\n",
    "        predictions = predictions.argmax(axis=-1)\n",
    "    \n",
    "    return metrics.accuracy_score(predictions, valid_y)"
   ]
  },
  {
   "cell_type": "code",
   "execution_count": 43,
   "metadata": {},
   "outputs": [
    {
     "name": "stdout",
     "output_type": "stream",
     "text": [
      "NB, Count Vectors:  0.46153846153846156\n"
     ]
    }
   ],
   "source": [
    "# Naive Bayes on Count Vectors\n",
    "nbcaccuracy = train_model(naive_bayes.MultinomialNB(), xtrain_count, train_y, xvalid_count)\n",
    "print(\"NB, Count Vectors: \", nbcaccuracy)"
   ]
  },
  {
   "cell_type": "code",
   "execution_count": 46,
   "metadata": {},
   "outputs": [
    {
     "name": "stdout",
     "output_type": "stream",
     "text": [
      "NB, WordLevel TF-IDF:  0.46153846153846156\n"
     ]
    }
   ],
   "source": [
    "# Naive Bayes on Word Level TF IDF Vectors\n",
    "nbtaccuracy = train_model(naive_bayes.MultinomialNB(), xtrain_tfidf, train_y, xvalid_tfidf)\n",
    "print(\"NB, WordLevel TF-IDF: \", nbtaccuracy)\n",
    "\n"
   ]
  },
  {
   "cell_type": "code",
   "execution_count": 49,
   "metadata": {},
   "outputs": [
    {
     "name": "stdout",
     "output_type": "stream",
     "text": [
      "NB, N-Gram Vectors:  0.3076923076923077\n"
     ]
    }
   ],
   "source": [
    "nbnaccuracy = train_model(naive_bayes.MultinomialNB(), xtrain_tfidf_ngram, train_y, xvalid_tfidf_ngram)\n",
    "print(\"NB, N-Gram Vectors: \", nbnaccuracy)\n"
   ]
  },
  {
   "cell_type": "code",
   "execution_count": 53,
   "metadata": {},
   "outputs": [
    {
     "name": "stdout",
     "output_type": "stream",
     "text": [
      "SVM, TF-IDF:  0.3076923076923077\n"
     ]
    }
   ],
   "source": [
    "# SVM on Ngram Level TF IDF Vectors\n",
    "svmtaccuracy = train_model(svm.SVC(), xtrain_tfidf, train_y, xvalid_tfidf)\n",
    "print(\"SVM, TF-IDF: \", svmtaccuracy)"
   ]
  },
  {
   "cell_type": "code",
   "execution_count": 57,
   "metadata": {},
   "outputs": [
    {
     "name": "stdout",
     "output_type": "stream",
     "text": [
      "SVM,Count Vectors:  0.38461538461538464\n"
     ]
    }
   ],
   "source": [
    "# SVM on Ngram Level TF IDF Vectors\n",
    "svmcaccuracy = train_model(svm.SVC(), xtrain_count, train_y, xvalid_count)\n",
    "print(\"SVM,Count Vectors: \", svmcaccuracy)"
   ]
  },
  {
   "cell_type": "code",
   "execution_count": 61,
   "metadata": {},
   "outputs": [
    {
     "name": "stdout",
     "output_type": "stream",
     "text": [
      "SVM, N-Gram Vectors:  0.15384615384615385\n"
     ]
    }
   ],
   "source": [
    "# SVM on Ngram Level TF IDF Vectors\n",
    "svmnaccuracy = train_model(svm.SVC(), xtrain_tfidf_ngram, train_y, xvalid_tfidf_ngram)\n",
    "print(\"SVM, N-Gram Vectors: \", svmnaccuracy)"
   ]
  },
  {
   "cell_type": "code",
   "execution_count": 19,
   "metadata": {},
   "outputs": [],
   "source": [
    "#Bagging Model"
   ]
  },
  {
   "cell_type": "code",
   "execution_count": 20,
   "metadata": {},
   "outputs": [
    {
     "name": "stderr",
     "output_type": "stream",
     "text": [
      "C:\\Users\\admin\\Anaconda3\\lib\\site-packages\\sklearn\\ensemble\\forest.py:246: FutureWarning: The default value of n_estimators will change from 10 in version 0.20 to 100 in 0.22.\n",
      "  \"10 in version 0.20 to 100 in 0.22.\", FutureWarning)\n"
     ]
    },
    {
     "name": "stdout",
     "output_type": "stream",
     "text": [
      "Bagging Model, Count Vectors:  0.46153846153846156\n"
     ]
    }
   ],
   "source": [
    "# RF on Count Vectors\n",
    "rfcaccuracy = train_model(ensemble.RandomForestClassifier(), xtrain_count, train_y, xvalid_count)\n",
    "print(\"Bagging Model, Count Vectors: \", rfcaccuracy)"
   ]
  },
  {
   "cell_type": "code",
   "execution_count": 21,
   "metadata": {},
   "outputs": [
    {
     "name": "stdout",
     "output_type": "stream",
     "text": [
      "Bagging Model, WordLevel TF-IDF:  0.38461538461538464\n"
     ]
    },
    {
     "name": "stderr",
     "output_type": "stream",
     "text": [
      "C:\\Users\\admin\\Anaconda3\\lib\\site-packages\\sklearn\\ensemble\\forest.py:246: FutureWarning: The default value of n_estimators will change from 10 in version 0.20 to 100 in 0.22.\n",
      "  \"10 in version 0.20 to 100 in 0.22.\", FutureWarning)\n"
     ]
    }
   ],
   "source": [
    "# RF on Word Level TF IDF Vectors\n",
    "rftaccuracy = train_model(ensemble.RandomForestClassifier(), xtrain_tfidf, train_y, xvalid_tfidf)\n",
    "print(\"Bagging Model, WordLevel TF-IDF: \", rftaccuracy)"
   ]
  },
  {
   "cell_type": "code",
   "execution_count": 22,
   "metadata": {},
   "outputs": [
    {
     "name": "stdout",
     "output_type": "stream",
     "text": [
      "Bagging Model, N-Gram Vectors:  0.23076923076923078\n"
     ]
    },
    {
     "name": "stderr",
     "output_type": "stream",
     "text": [
      "C:\\Users\\admin\\Anaconda3\\lib\\site-packages\\sklearn\\ensemble\\forest.py:246: FutureWarning: The default value of n_estimators will change from 10 in version 0.20 to 100 in 0.22.\n",
      "  \"10 in version 0.20 to 100 in 0.22.\", FutureWarning)\n"
     ]
    }
   ],
   "source": [
    "# RF on Word Level TF IDF Vectors\n",
    "rfnaccuracy = train_model(ensemble.RandomForestClassifier(), xtrain_tfidf_ngram, train_y, xvalid_tfidf_ngram)\n",
    "print(\"Bagging Model, N-Gram Vectors: \", rfnaccuracy)"
   ]
  },
  {
   "cell_type": "code",
   "execution_count": 23,
   "metadata": {},
   "outputs": [],
   "source": [
    "#CNN"
   ]
  },
  {
   "cell_type": "code",
   "execution_count": 24,
   "metadata": {},
   "outputs": [
    {
     "name": "stderr",
     "output_type": "stream",
     "text": [
      "Using TensorFlow backend.\n"
     ]
    }
   ],
   "source": [
    "from keras.preprocessing import text, sequence\n",
    "from keras import layers, models, optimizers"
   ]
  },
  {
   "cell_type": "code",
   "execution_count": 25,
   "metadata": {},
   "outputs": [
    {
     "name": "stdout",
     "output_type": "stream",
     "text": [
      "KNN, Count Vectors:  0.38461538461538464\n",
      "KNN, WordLevel TF-IDF:  0.5384615384615384\n",
      "KNN, N-Gram Vectors:  0.3076923076923077\n"
     ]
    }
   ],
   "source": [
    "#classification -knn - k_Nearest_Neighbours\n",
    "from sklearn.neighbors import KNeighborsClassifier\n",
    "knn=KNeighborsClassifier(n_neighbors=5)\n",
    "knn.fit(xtrain_count, train_y)\n",
    "knn.score(xvalid_count,valid_y)\n",
    "knnc=train_model(KNeighborsClassifier(n_neighbors=5),  xtrain_count, train_y, xvalid_count)\n",
    "knnt=train_model(KNeighborsClassifier(n_neighbors=5), xtrain_tfidf, train_y, xvalid_tfidf)\n",
    "knnn=train_model(KNeighborsClassifier(n_neighbors=5), xtrain_tfidf_ngram, train_y, xvalid_tfidf_ngram)\n",
    "print(\"KNN, Count Vectors: \", knnc)\n",
    "print(\"KNN, WordLevel TF-IDF: \", knnt)\n",
    "print(\"KNN, N-Gram Vectors: \", knnn)"
   ]
  },
  {
   "cell_type": "code",
   "execution_count": 27,
   "metadata": {},
   "outputs": [
    {
     "name": "stdout",
     "output_type": "stream",
     "text": [
      "NB, Count Vectors:  0.46153846153846156\n",
      "NB, WordLevel TF-IDF:  0.46153846153846156\n",
      "NB, N-Gram Vectors:  0.3076923076923077\n",
      "SVM,Count Vectors:  0.38461538461538464\n",
      "SVM, TF-IDF:  0.3076923076923077\n",
      "SVM, N-Gram Vectors:  0.15384615384615385\n",
      "Bagging Model, Count Vectors:  0.46153846153846156\n",
      "Bagging Model, WordLevel TF-IDF:  0.38461538461538464\n",
      "Bagging Model, N-Gram Vectors:  0.23076923076923078\n",
      "KNN, Count Vectors:  0.38461538461538464\n",
      "KNN, WordLevel TF-IDF:  0.5384615384615384\n",
      "KNN, N-Gram Vectors:  0.3076923076923077\n"
     ]
    }
   ],
   "source": [
    "print(\"NB, Count Vectors: \", nbcaccuracy)\n",
    "print(\"NB, WordLevel TF-IDF: \", nbtaccuracy)\n",
    "print(\"NB, N-Gram Vectors: \", nbnaccuracy)\n",
    "print(\"SVM,Count Vectors: \", svmcaccuracy)\n",
    "print(\"SVM, TF-IDF: \", svmtaccuracy)\n",
    "print(\"SVM, N-Gram Vectors: \", svmnaccuracy)\n",
    "print(\"Bagging Model, Count Vectors: \", rfcaccuracy)\n",
    "print(\"Bagging Model, WordLevel TF-IDF: \", rftaccuracy)\n",
    "print(\"Bagging Model, N-Gram Vectors: \", rfnaccuracy)\n",
    "print(\"KNN, Count Vectors: \", knnc)\n",
    "print(\"KNN, WordLevel TF-IDF: \", knnt)\n",
    "print(\"KNN, N-Gram Vectors: \", knnn)"
   ]
  },
  {
   "cell_type": "markdown",
   "metadata": {},
   "source": [
    "Kmeans on our data"
   ]
  },
  {
   "cell_type": "code",
   "execution_count": 28,
   "metadata": {},
   "outputs": [],
   "source": [
    "from sklearn.feature_extraction.text import TfidfVectorizer, ENGLISH_STOP_WORDS\n",
    "from sklearn.pipeline import make_pipeline\n",
    "from sklearn.decomposition import PCA\n",
    "from sklearn.cluster import KMeans, MiniBatchKMeans\n",
    "from sklearn.manifold import TSNE\n",
    "from sklearn.decomposition import TruncatedSVD \n",
    "from sklearn.preprocessing import normalize \n"
   ]
  },
  {
   "cell_type": "code",
   "execution_count": 29,
   "metadata": {},
   "outputs": [],
   "source": [
    "import pandas as pd\n",
    "import numpy as np\n",
    "import matplotlib.pyplot as plt"
   ]
  },
  {
   "cell_type": "code",
   "execution_count": 30,
   "metadata": {},
   "outputs": [],
   "source": [
    "def parse_raw_message(raw_message):\n",
    "    lines = raw_message.split('\\n')\n",
    "    email = {}\n",
    "    message = ''\n",
    "    keys_to_extract = ['from', 'to']\n",
    "    for line in lines:\n",
    "        if ':' not in line:\n",
    "            message += line.strip()\n",
    "            email['body'] = message\n",
    "        else:\n",
    "            pairs = line.split(':')\n",
    "            key = pairs[0].lower()\n",
    "            val = pairs[1].strip()\n",
    "            if key in keys_to_extract:\n",
    "                email[key] = val\n",
    "    return email\n",
    "\n",
    "def parse_into_emails(messages):\n",
    "    emails = [parse_raw_message(message) for message in messages]\n",
    "    return {\n",
    "        'body': map_to_list(emails, 'body'), \n",
    "        'to': map_to_list(emails, 'to'), \n",
    "        'from_': map_to_list(emails, 'from')\n",
    "    }\n",
    "\n",
    "def map_to_list(emails, key):\n",
    "    results = []\n",
    "    for email in emails:\n",
    "        if key not in email:\n",
    "            results.append('')\n",
    "        else:\n",
    "            results.append(email[key])\n",
    "    return results\n",
    "\n",
    "def top_tfidf_feats(row, features, top_n=20):\n",
    "    topn_ids = np.argsort(row)[::-1][:top_n]\n",
    "    top_feats = [(features[i], row[i]) for i in topn_ids]\n",
    "    df = pd.DataFrame(top_feats, columns=['features', 'score'])\n",
    "    return df\n",
    "\n",
    "def top_feats_in_doc(X, features, row_id, top_n=25):\n",
    "    row = np.squeeze(X[row_id].toarray())\n",
    "    return top_tfidf_feats(row, features, top_n)\n",
    "\n",
    "def top_mean_feats(X, features, grp_ids=None, min_tfidf=0.1, top_n=25):\n",
    "    if grp_ids:\n",
    "        D = X[grp_ids].toarray()\n",
    "    else:\n",
    "        D = X.toarray()\n",
    "\n",
    "    D[D < min_tfidf] = 0\n",
    "    tfidf_means = np.mean(D, axis=0)\n",
    "    return top_tfidf_feats(tfidf_means, features, top_n)\n",
    "\n",
    "def top_feats_per_cluster(X, y, features, min_tfidf=0.1, top_n=25):\n",
    "    dfs = []\n",
    "\n",
    "    labels = np.unique(y)\n",
    "    for label in labels:\n",
    "        ids = np.where(y==label) \n",
    "        feats_df = top_mean_feats(X, features, ids, min_tfidf=min_tfidf, top_n=top_n)\n",
    "        feats_df.label = label\n",
    "        dfs.append(feats_df)\n",
    "    return dfs\n",
    "\n",
    "def plot_tfidf_classfeats_h(dfs):\n",
    "    fig = plt.figure(figsize=(12, 9), facecolor=\"w\")\n",
    "    x = np.arange(len(dfs[0]))\n",
    "    for i, df in enumerate(dfs):\n",
    "        ax = fig.add_subplot(1, len(dfs), i+1)\n",
    "        ax.spines[\"top\"].set_visible(False)\n",
    "        ax.spines[\"right\"].set_visible(False)\n",
    "        ax.set_frame_on(False)\n",
    "        ax.get_xaxis().tick_bottom()\n",
    "        ax.get_yaxis().tick_left()\n",
    "        ax.set_xlabel(\"Tf-Idf Score\", labelpad=16, fontsize=14)\n",
    "        ax.set_title(\"cluster = \" + str(df.label), fontsize=16)\n",
    "        ax.ticklabel_format(axis='x', style='sci', scilimits=(-2,2))\n",
    "        ax.barh(x, df.score, align='center', color='#7530FF')\n",
    "        ax.set_yticks(x)\n",
    "        ax.set_ylim([-1, x[-1]+1])\n",
    "        yticks = ax.set_yticklabels(df.features)\n",
    "        plt.subplots_adjust(bottom=0.09, right=0.97, left=0.15, top=0.95, wspace=0.52)\n",
    "    plt.show()"
   ]
  },
  {
   "cell_type": "code",
   "execution_count": 31,
   "metadata": {},
   "outputs": [
    {
     "name": "stdout",
     "output_type": "stream",
     "text": [
      "     features     score\n",
      "0         pro  0.669148\n",
      "1    exciting  0.223049\n",
      "2        tips  0.223049\n",
      "3         did  0.223049\n",
      "4    starting  0.223049\n",
      "5       given  0.223049\n",
      "6         lot  0.223049\n",
      "7       going  0.223049\n",
      "8  codecademy  0.223049\n",
      "9        love  0.193475\n"
     ]
    }
   ],
   "source": [
    "stopwords = ENGLISH_STOP_WORDS.union(['ect', 'hou', 'com', 'recipient'])\n",
    "vect = TfidfVectorizer(analyzer='word', stop_words=stopwords, max_df=0.3, min_df=2)\n",
    "X = vect.fit_transform(trainDF.text)\n",
    "features = vect.get_feature_names()\n",
    "\n",
    "# Let's print the top 10 terms in document 1\n",
    "print(top_feats_in_doc(X, features, 1, 10))\n",
    "n_clusters = 5\n",
    "clf = KMeans(n_clusters=n_clusters, \n",
    "            max_iter=100, \n",
    "            init='k-means++', \n",
    "            n_init=1)\n",
    "labels = clf.fit_predict(X)"
   ]
  },
  {
   "cell_type": "code",
   "execution_count": 32,
   "metadata": {},
   "outputs": [
    {
     "data": {
      "image/png": "[encoded data removed]",
      "text/plain": [
       "<Figure size 864x648 with 5 Axes>"
      ]
     },
     "metadata": {},
     "output_type": "display_data"
    }
   ],
   "source": [
    "plot_tfidf_classfeats_h(top_feats_per_cluster(X, labels, features, 0.1, 25))"
   ]
  },
  {
   "cell_type": "code",
   "execution_count": null,
   "metadata": {},
   "outputs": [],
   "source": []
  }
 ],
 "metadata": {
  "kernelspec": {
   "display_name": "Python 3",
   "language": "python",
   "name": "python3"
  },
  "language_info": {
   "codemirror_mode": {
    "name": "ipython",
    "version": 3
   },
   "file_extension": ".py",
   "mimetype": "text/x-python",
   "name": "python",
   "nbconvert_exporter": "python",
   "pygments_lexer": "ipython3",
   "version": "3.7.4"
  }
 },
 "nbformat": 4,
 "nbformat_minor": 2
}
